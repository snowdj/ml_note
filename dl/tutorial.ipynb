{
 "cells": [
  {
   "cell_type": "markdown",
   "metadata": {},
   "source": [
    "http://ufldl.stanford.edu/tutorial/\n",
    "    \n",
    "    "
   ]
  },
  {
   "cell_type": "markdown",
   "metadata": {},
   "source": [
    "## Linear Algebra\n",
    "\n",
    "http://web.mit.edu/18.06/www/videos.shtml\n",
    "\n",
    "https://ocw.mit.edu/courses/mathematics/18-06-linear-algebra-spring-2010/index.htm\n",
    "\n",
    "https://ocw.mit.edu/courses/mathematics/18-085-computational-science-and-engineering-i-fall-2008/video-lectures/\n",
    "\n",
    "https://ocw.mit.edu/courses/mathematics/18-086-mathematical-methods-for-engineers-ii-spring-2006/video-lectures/"
   ]
  },
  {
   "cell_type": "markdown",
   "metadata": {},
   "source": [
    "## Differential equation\n",
    "\n",
    "https://www.youtube.com/watch?v=ghjOS7Q82s0\n",
    "\n",
    "https://www.mathworks.com/videos/series/differential-equations-and-linear-algebra-117657.html"
   ]
  },
  {
   "cell_type": "markdown",
   "metadata": {},
   "source": [
    "## Computer Science\n",
    "\n",
    "https://cs50.harvard.edu/\n",
    "\n",
    "https://courses.edx.org/courses/course-v1:LinuxFoundationX+LFS101x+1T2017/course/\n",
    "\n",
    "https://courses.edx.org/courses/course-v1:MITx+6.00.2x_7+1T2017/course/\n",
    "\n",
    "https://courses.edx.org/courses/course-v1:MITx+6.00.1x+2T2017/course/\n",
    "\n",
    "https://courses.edx.org/courses/course-v1:ColumbiaX+DS102X+1T2017/courseware"
   ]
  },
  {
   "cell_type": "markdown",
   "metadata": {},
   "source": [
    "## Python\n",
    "\n",
    "https://courses.edx.org/courses/course-v1:UCSanDiegoX+DSE200x+2T2017/course/"
   ]
  },
  {
   "cell_type": "markdown",
   "metadata": {},
   "source": [
    "## Algorithm\n",
    "\n",
    "\n",
    "https://courses.edx.org/courses/course-v1:ColumbiaX+DS102X+1T2017/course/\n",
    "\n",
    "\n"
   ]
  },
  {
   "cell_type": "markdown",
   "metadata": {},
   "source": [
    "## Stats\n",
    "\n",
    "http://genomicsclass.github.io/book/\n",
    "t test\n",
    "matrix \n",
    "regression\n",
    "\n",
    "https://matterhorn.dce.harvard.edu/engage/ui/index.html#/2017/02/24932\n",
    "\n",
    "\n",
    "http://iacs-courses.seas.harvard.edu/courses/am207/blog/lecture-1.html"
   ]
  },
  {
   "cell_type": "markdown",
   "metadata": {},
   "source": [
    "## Data science\n",
    "\n",
    "https://courses.edx.org/courses/course-v1:UCSanDiegoX+DSE200x+2T2017/course/"
   ]
  },
  {
   "cell_type": "markdown",
   "metadata": {},
   "source": [
    "# Machine learning\n",
    "\n",
    "https://lagunita.stanford.edu/courses/HumanitiesSciences/StatLearning/Winter2016/courseware/4cd5971758e84840b24d91c763df6ce8/bb3f21ec63554788b9a3023c22a98118/\n",
    "\n",
    "\n",
    "https://courses.edx.org/courses/course-v1:CaltechX+CS1156x+3T2017/course/\n",
    "\n",
    "https://github.com/kaleko/CourseraML\n",
    "\n",
    "https://github.com/mstampfer/Coursera-Stanford-ML-Python\n"
   ]
  },
  {
   "cell_type": "markdown",
   "metadata": {},
   "source": [
    "## Deep learning\n",
    "\n",
    "https://www.coursera.org/learn/deep-neural-network/lecture/RwqYe/weight-initialization-for-deep-networks\n",
    "\n",
    "http://videolectures.net/deeplearning2017_precup_machine_learning/\n",
    "\n",
    "http://deeplearning.stanford.edu/tutorial/\n",
    "\n",
    "https://www.youtube.com/watch?v=vi7lACKOUao&list=PLsXu9MHQGs8cshZb3YUdtBhcu3LQp0Ax9"
   ]
  },
  {
   "cell_type": "markdown",
   "metadata": {},
   "source": [
    "# Optimization\n",
    "\n",
    "\n",
    "https://lagunita.stanford.edu/courses/Engineering/CVX101/Winter2014/about"
   ]
  },
  {
   "cell_type": "markdown",
   "metadata": {},
   "source": [
    "## Stochastic process\n",
    "\n",
    "https://courses.edx.org/courses/course-v1:KyotoUx+009x+2T2017/course/\n",
    "\n"
   ]
  },
  {
   "cell_type": "markdown",
   "metadata": {},
   "source": [
    "# Economics\n",
    "\n",
    "https://lectures.quantecon.org/py/matplotlib.html"
   ]
  }
 ],
 "metadata": {
  "kernelspec": {
   "display_name": "Python 3",
   "language": "python",
   "name": "python3"
  },
  "language_info": {
   "codemirror_mode": {
    "name": "ipython",
    "version": 3
   },
   "file_extension": ".py",
   "mimetype": "text/x-python",
   "name": "python",
   "nbconvert_exporter": "python",
   "pygments_lexer": "ipython3",
   "version": "3.6.2"
  }
 },
 "nbformat": 4,
 "nbformat_minor": 2
}
