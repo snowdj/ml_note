{
 "cells": [
  {
   "cell_type": "markdown",
   "metadata": {},
   "source": [
    "## Scikit-learn's estimator interface\n",
    "Scikit-learn strives to have a uniform interface across all methods, and we'll see examples of these below. Given a scikit-learn estimator object named model, the following methods are available:\n",
    "\n",
    "### Available in all Estimators\n",
    "model.fit() : fit training data. For supervised learning applications, this accepts two arguments: the data X and the labels y (e.g. model.fit(X, y)). For unsupervised learning applications, this accepts only a single argument, the data X (e.g. model.fit(X)).\n",
    "### Available in supervised estimators\n",
    "model.predict() : given a trained model, predict the label of a new set of data. This method accepts one argument, the new data X_new (e.g. model.predict(X_new)), and returns the learned label for each object in the array.\n",
    "\n",
    "model.predict_proba() : For classification problems, some estimators also provide this method, which returns the probability that a new observation has each categorical label. In this case, the label with the highest probability is returned by model.predict().\n",
    "\n",
    "model.score() : for classification or regression problems, most (all?) estimators implement a score method. Scores are between 0 and 1, with a larger score indicating a better fit.\n",
    "### Available in unsupervised estimators\n",
    "model.predict() : predict labels in clustering algorithms.\n",
    "\n",
    "model.transform() : given an unsupervised model, transform new data into the new basis. This also accepts one argument X_new, and returns the new representation of the data based on the unsupervised model.\n",
    "\n",
    "model.fit_transform() : some estimators implement this method, which more efficiently performs a fit and a transform on the same input data."
   ]
  },
  {
   "cell_type": "code",
   "execution_count": null,
   "metadata": {
    "collapsed": true
   },
   "outputs": [],
   "source": [
    "#https://github.com/jakevdp/sklearn_tutorial/\n",
    "%matplotlib inline\n",
    "import numpy as np\n",
    "import matplotlib.pyplot as plt\n",
    "\n",
    "# use seaborn for plot defaults\n",
    "# this can be safely commented out\n",
    "import seaborn; seaborn.set()"
   ]
  },
  {
   "cell_type": "code",
   "execution_count": null,
   "metadata": {
    "collapsed": true
   },
   "outputs": [],
   "source": [
    "from sklearn import neighbors, datasets\n",
    "\n",
    "iris = datasets.load_iris()\n",
    "X, y = iris.data, iris.target"
   ]
  },
  {
   "cell_type": "code",
   "execution_count": null,
   "metadata": {},
   "outputs": [],
   "source": [
    "# create the model\n",
    "knn = neighbors.KNeighborsClassifier(n_neighbors=5)\n",
    "\n",
    "# fit the model\n",
    "knn.fit(X, y)\n",
    "\n",
    "# What kind of iris has 3cm x 5cm sepal and 4cm x 2cm petal?\n",
    "# call the \"predict\" method:\n",
    "result = knn.predict([[3, 5, 4, 2],])\n",
    "\n",
    "print(iris.target_names[result])"
   ]
  },
  {
   "cell_type": "code",
   "execution_count": null,
   "metadata": {
    "collapsed": true
   },
   "outputs": [],
   "source": []
  },
  {
   "cell_type": "code",
   "execution_count": null,
   "metadata": {
    "collapsed": true
   },
   "outputs": [],
   "source": [
    "# Create some simple data\n",
    "import numpy as np\n",
    "np.random.seed(0)\n",
    "X = np.random.random(size=(20, 1))\n",
    "y = 3 * X.squeeze() + 2 + np.random.randn(20)\n",
    "\n",
    "plt.plot(X.squeeze(), y, 'o');"
   ]
  },
  {
   "cell_type": "code",
   "execution_count": null,
   "metadata": {
    "collapsed": true
   },
   "outputs": [],
   "source": [
    "\n",
    "from sklearn.linear_model import LinearRegression\n",
    "model = LinearRegression()\n",
    "model.fit(X, y)\n",
    "\n",
    "# Plot the data and the model prediction\n",
    "X_fit = np.linspace(0, 1, 100)[:, np.newaxis]\n",
    "y_fit = model.predict(X_fit)\n",
    "\n",
    "plt.plot(X.squeeze(), y, 'o')\n",
    "plt.plot(X_fit.squeeze(), y_fit);"
   ]
  },
  {
   "cell_type": "code",
   "execution_count": null,
   "metadata": {
    "collapsed": true
   },
   "outputs": [],
   "source": [
    "\n",
    "# Fit a Random Forest\n",
    "from sklearn.ensemble import RandomForestRegressor\n",
    "model = RandomForestRegressor(n_estimators=5, max_depth=3)\n",
    "model.fit(X, y)\n",
    "\n",
    "# Plot the data and the model prediction\n",
    "X_fit = np.linspace(0, 1, 100)[:, np.newaxis]\n",
    "y_fit = model.predict(X_fit)\n",
    "\n",
    "plt.plot(X.squeeze(), y, 'o')\n",
    "plt.plot(X_fit.squeeze(), y_fit);"
   ]
  },
  {
   "cell_type": "code",
   "execution_count": null,
   "metadata": {
    "collapsed": true
   },
   "outputs": [],
   "source": [
    "RandomForestRegressor?"
   ]
  },
  {
   "cell_type": "markdown",
   "metadata": {},
   "source": [
    "These class-level arguments are known as hyperparameters, and we will discuss later how you to select hyperparameters in the model validation section."
   ]
  },
  {
   "cell_type": "code",
   "execution_count": null,
   "metadata": {
    "collapsed": true
   },
   "outputs": [],
   "source": [
    "import pickle\n"
   ]
  },
  {
   "cell_type": "code",
   "execution_count": null,
   "metadata": {
    "collapsed": true
   },
   "outputs": [],
   "source": [
    "X, y = iris.data, iris.target\n",
    "\n",
    "from sklearn.decomposition import PCA\n",
    "pca = PCA(n_components=0.95)\n",
    "pca.fit(X)\n",
    "X_reduced = pca.transform(X)\n",
    "print(\"Reduced dataset shape:\", X_reduced.shape)"
   ]
  },
  {
   "cell_type": "code",
   "execution_count": null,
   "metadata": {
    "collapsed": true
   },
   "outputs": [],
   "source": [
    "#import pylab as plt\n",
    "plt.scatter(X_reduced[:, 0], X_reduced[:, 1], c=y,\n",
    "           cmap='RdYlBu')\n"
   ]
  },
  {
   "cell_type": "code",
   "execution_count": null,
   "metadata": {
    "collapsed": true
   },
   "outputs": [],
   "source": [
    "\n",
    "print(\"Meaning of the 2 components:\")\n",
    "for component in pca.components_:\n",
    "    print(\" + \".join(\"%.3f x %s\" % (value, name)\n",
    "                     for value, name in zip(component,\n",
    "                                            iris.feature_names)))"
   ]
  },
  {
   "cell_type": "code",
   "execution_count": null,
   "metadata": {
    "collapsed": true
   },
   "outputs": [],
   "source": [
    "from sklearn.cluster import KMeans\n",
    "k_means = KMeans(n_clusters=3, random_state=0) # Fixing the RNG in kmeans\n",
    "k_means.fit(X)\n",
    "y_pred = k_means.predict(X)\n",
    "\n",
    "plt.scatter(X_reduced[:, 0], X_reduced[:, 1], c=y_pred,\n",
    "           cmap='RdYlBu');"
   ]
  },
  {
   "cell_type": "markdown",
   "metadata": {},
   "source": [
    "Model Validation"
   ]
  },
  {
   "cell_type": "code",
   "execution_count": null,
   "metadata": {
    "collapsed": true
   },
   "outputs": [],
   "source": [
    "from sklearn.neighbors import KNeighborsClassifier\n",
    "X, y = iris.data, iris.target\n",
    "clf = KNeighborsClassifier(n_neighbors=1)\n",
    "clf.fit(X, y)\n",
    "y_pred = clf.predict(X)\n",
    "print(np.all(y == y_pred))"
   ]
  },
  {
   "cell_type": "code",
   "execution_count": null,
   "metadata": {
    "collapsed": true
   },
   "outputs": [],
   "source": [
    "from sklearn.metrics import confusion_matrix\n",
    "print(confusion_matrix(y, y_pred))"
   ]
  },
  {
   "cell_type": "code",
   "execution_count": null,
   "metadata": {
    "collapsed": true
   },
   "outputs": [],
   "source": [
    "#http://scikit-learn.org/stable/modules/cross_validation.html\n",
    "from sklearn.model_selection import train_test_split\n",
    "Xtrain, Xtest, ytrain, ytest = train_test_split(X, y, test_size=0.4, random_state=0)\n",
    "\n",
    "\n",
    "\n",
    "Xtrain.shape, ytrain.shape\n",
    "\n"
   ]
  },
  {
   "cell_type": "code",
   "execution_count": null,
   "metadata": {
    "collapsed": true
   },
   "outputs": [],
   "source": [
    "Xtest.shape, ytest.shape"
   ]
  },
  {
   "cell_type": "code",
   "execution_count": null,
   "metadata": {
    "collapsed": true
   },
   "outputs": [],
   "source": [
    "clf.fit(Xtrain, ytrain)\n",
    "ypred = clf.predict(Xtest)\n",
    "print(confusion_matrix(ytest, ypred))"
   ]
  },
  {
   "cell_type": "code",
   "execution_count": null,
   "metadata": {
    "collapsed": true
   },
   "outputs": [],
   "source": [
    "from sklearn.model_selection import cross_val_score\n",
    "scores = cross_val_score(clf, iris.data, iris.target, cv=5)\n",
    "scores         "
   ]
  },
  {
   "cell_type": "code",
   "execution_count": null,
   "metadata": {
    "collapsed": true
   },
   "outputs": [],
   "source": [
    "print(\"Accuracy: %0.2f (+/- %0.2f)\" % (scores.mean(), scores.std() * 2))"
   ]
  },
  {
   "cell_type": "markdown",
   "metadata": {},
   "source": [
    "![](http://scikit-learn.org/dev/_static/ml_map.png)"
   ]
  },
  {
   "cell_type": "code",
   "execution_count": null,
   "metadata": {},
   "outputs": [],
   "source": [
    "from sklearn import datasets\n",
    "digits = datasets.load_digits()\n",
    "digits.images.shape"
   ]
  },
  {
   "cell_type": "code",
   "execution_count": null,
   "metadata": {
    "collapsed": true
   },
   "outputs": [],
   "source": [
    "\n",
    "fig, axes = plt.subplots(10, 10, figsize=(8, 8))\n",
    "fig.subplots_adjust(hspace=0.1, wspace=0.1)\n",
    "\n",
    "for i, ax in enumerate(axes.flat):\n",
    "    ax.imshow(digits.images[i], cmap='binary', interpolation='nearest')\n",
    "    ax.text(0.05, 0.05, str(digits.target[i]),\n",
    "            transform=ax.transAxes, color='green')\n",
    "    ax.set_xticks([])\n",
    "    ax.set_yticks([])"
   ]
  },
  {
   "cell_type": "code",
   "execution_count": null,
   "metadata": {
    "collapsed": true
   },
   "outputs": [],
   "source": [
    "# The images themselves\n",
    "print(digits.images.shape)\n",
    "print(digits.images[0])"
   ]
  },
  {
   "cell_type": "code",
   "execution_count": null,
   "metadata": {
    "collapsed": true
   },
   "outputs": [],
   "source": [
    "# The data for use in our algorithms\n",
    "print(digits.data.shape)\n",
    "print(digits.data[0]) "
   ]
  },
  {
   "cell_type": "code",
   "execution_count": null,
   "metadata": {
    "collapsed": true
   },
   "outputs": [],
   "source": [
    "# The target label\n",
    "print(digits.target)"
   ]
  },
  {
   "cell_type": "markdown",
   "metadata": {},
   "source": [
    "We'd like to visualize our points within the 64-dimensional parameter space, but it's difficult to plot points in 64 dimensions! Instead we'll reduce the dimensions to 2, using an unsupervised method. Here, we'll make use of a manifold learning algorithm called Isomap, and transform the data to two dimensions."
   ]
  },
  {
   "cell_type": "code",
   "execution_count": null,
   "metadata": {
    "collapsed": true
   },
   "outputs": [],
   "source": [
    "from sklearn.manifold import Isomap"
   ]
  },
  {
   "cell_type": "code",
   "execution_count": null,
   "metadata": {
    "collapsed": true
   },
   "outputs": [],
   "source": [
    "iso = Isomap(n_components=2)\n",
    "data_projected = iso.fit_transform(digits.data)"
   ]
  },
  {
   "cell_type": "code",
   "execution_count": null,
   "metadata": {
    "collapsed": true
   },
   "outputs": [],
   "source": [
    "data_projected.shape"
   ]
  },
  {
   "cell_type": "code",
   "execution_count": null,
   "metadata": {
    "collapsed": true
   },
   "outputs": [],
   "source": [
    "plt.scatter(data_projected[:, 0], data_projected[:, 1], c=digits.target,\n",
    "            edgecolor='none', alpha=0.5, cmap=plt.cm.get_cmap('nipy_spectral', 10));\n",
    "plt.colorbar(label='digit label', ticks=range(10))\n",
    "plt.clim(-0.5, 9.5)"
   ]
  },
  {
   "cell_type": "code",
   "execution_count": null,
   "metadata": {
    "collapsed": true
   },
   "outputs": [],
   "source": [
    "Xtrain, Xtest, ytrain, ytest = train_test_split(digits.data, digits.target,\n",
    "                                                random_state=2)\n",
    "print(Xtrain.shape, Xtest.shape)"
   ]
  },
  {
   "cell_type": "code",
   "execution_count": null,
   "metadata": {
    "collapsed": true
   },
   "outputs": [],
   "source": [
    "from sklearn.linear_model import LogisticRegression\n",
    "clf = LogisticRegression(penalty='l2')\n",
    "clf.fit(Xtrain, ytrain)\n",
    "ypred = clf.predict(Xtest)"
   ]
  },
  {
   "cell_type": "code",
   "execution_count": null,
   "metadata": {
    "collapsed": true
   },
   "outputs": [],
   "source": [
    "from sklearn.metrics import accuracy_score\n",
    "accuracy_score(ytest, ypred)"
   ]
  },
  {
   "cell_type": "code",
   "execution_count": null,
   "metadata": {
    "collapsed": true
   },
   "outputs": [],
   "source": [
    "print(confusion_matrix(ytest, ypred))"
   ]
  },
  {
   "cell_type": "code",
   "execution_count": null,
   "metadata": {
    "collapsed": true
   },
   "outputs": [],
   "source": [
    "plt.imshow(np.log(confusion_matrix(ytest, ypred)),\n",
    "           cmap='Blues', interpolation='nearest')\n",
    "plt.grid(False)\n",
    "plt.ylabel('true')\n",
    "plt.xlabel('predicted');"
   ]
  },
  {
   "cell_type": "code",
   "execution_count": null,
   "metadata": {
    "collapsed": true
   },
   "outputs": [],
   "source": [
    "\n",
    "fig, axes = plt.subplots(10, 10, figsize=(8, 8))\n",
    "fig.subplots_adjust(hspace=0.1, wspace=0.1)\n",
    "\n",
    "for i, ax in enumerate(axes.flat):\n",
    "    ax.imshow(Xtest[i].reshape(8, 8), cmap='binary')\n",
    "    ax.text(0.05, 0.05, str(ypred[i]),\n",
    "            transform=ax.transAxes,\n",
    "            color='green' if (ytest[i] == ypred[i]) else 'red')\n",
    "    ax.set_xticks([])\n",
    "    ax.set_yticks([])"
   ]
  },
  {
   "cell_type": "markdown",
   "metadata": {},
   "source": [
    "Supervised Learning In-Depth: Support Vector Machines"
   ]
  },
  {
   "cell_type": "code",
   "execution_count": null,
   "metadata": {
    "collapsed": true
   },
   "outputs": [],
   "source": [
    "from scipy import stats"
   ]
  },
  {
   "cell_type": "code",
   "execution_count": null,
   "metadata": {
    "collapsed": true
   },
   "outputs": [],
   "source": [
    "from sklearn.datasets.samples_generator import make_blobs\n",
    "X, y = make_blobs(n_samples=50, centers=2,\n",
    "                  random_state=0, cluster_std=0.60)\n",
    "plt.scatter(X[:, 0], X[:, 1], c=y, s=50, cmap='spring');"
   ]
  },
  {
   "cell_type": "code",
   "execution_count": null,
   "metadata": {
    "collapsed": true
   },
   "outputs": [],
   "source": [
    "xfit = np.linspace(-1, 3.5)\n",
    "plt.scatter(X[:, 0], X[:, 1], c=y, s=50, cmap='spring')\n",
    "\n",
    "for m, b in [(1, 0.65), (0.5, 1.6), (-0.2, 2.9)]:\n",
    "    plt.plot(xfit, m * xfit + b, '-k')\n",
    "\n",
    "plt.xlim(-1, 3.5);"
   ]
  },
  {
   "cell_type": "markdown",
   "metadata": {},
   "source": [
    "Support Vector Machines: Maximizing the Margin\n",
    "\n",
    "Support vector machines are one way to address this. What support vector machined do is to not only draw a line, but consider a region about the line of some given width. Here's an example of what it might look like:"
   ]
  },
  {
   "cell_type": "code",
   "execution_count": null,
   "metadata": {
    "collapsed": true
   },
   "outputs": [],
   "source": [
    "xfit = np.linspace(-1, 3.5)\n",
    "plt.scatter(X[:, 0], X[:, 1], c=y, s=50, cmap='spring')\n",
    "\n",
    "for m, b, d in [(1, 0.65, 0.33), (0.5, 1.6, 0.55), (-0.2, 2.9, 0.2)]:\n",
    "    yfit = m * xfit + b\n",
    "    plt.plot(xfit, yfit, '-k')\n",
    "    plt.fill_between(xfit, yfit - d, yfit + d, edgecolor='none', color='#AAAAAA', alpha=0.4)\n",
    "\n",
    "plt.xlim(-1, 3.5);"
   ]
  },
  {
   "cell_type": "code",
   "execution_count": null,
   "metadata": {
    "collapsed": true
   },
   "outputs": [],
   "source": [
    "from sklearn.svm import SVC  # \"Support Vector Classifier\"\n",
    "clf = SVC(kernel='linear')\n",
    "clf.fit(X, y)"
   ]
  },
  {
   "cell_type": "code",
   "execution_count": null,
   "metadata": {
    "collapsed": true
   },
   "outputs": [],
   "source": [
    "def plot_svc_decision_function(clf, ax=None):\n",
    "    \"\"\"Plot the decision function for a 2D SVC\"\"\"\n",
    "    if ax is None:\n",
    "        ax = plt.gca()\n",
    "    x = np.linspace(plt.xlim()[0], plt.xlim()[1], 30)\n",
    "    y = np.linspace(plt.ylim()[0], plt.ylim()[1], 30)\n",
    "    Y, X = np.meshgrid(y, x)\n",
    "    P = np.zeros_like(X)\n",
    "    for i, xi in enumerate(x):\n",
    "        for j, yj in enumerate(y):\n",
    "            P[i, j] = clf.decision_function([[xi, yj]])\n",
    "    # plot the margins\n",
    "    ax.contour(X, Y, P, colors='k',\n",
    "               levels=[-1, 0, 1], alpha=0.5,\n",
    "               linestyles=['--', '-', '--'])"
   ]
  },
  {
   "cell_type": "code",
   "execution_count": null,
   "metadata": {
    "collapsed": true
   },
   "outputs": [],
   "source": [
    "\n",
    "plt.scatter(X[:, 0], X[:, 1], c=y, s=50, cmap='spring')\n",
    "plot_svc_decision_function(clf);"
   ]
  },
  {
   "cell_type": "markdown",
   "metadata": {},
   "source": [
    "Notice that the dashed lines touch a couple of the points: these points are the pivotal pieces of this fit, and are known as the support vectors (giving the algorithm its name). In scikit-learn, these are stored in the support_vectors_ attribute of the classifier:"
   ]
  },
  {
   "cell_type": "code",
   "execution_count": null,
   "metadata": {
    "collapsed": true
   },
   "outputs": [],
   "source": [
    "plt.scatter(X[:, 0], X[:, 1], c=y, s=50, cmap='spring')\n",
    "plot_svc_decision_function(clf)\n",
    "plt.scatter(clf.support_vectors_[:, 0], clf.support_vectors_[:, 1],\n",
    "            s=200, facecolors='r');"
   ]
  },
  {
   "cell_type": "code",
   "execution_count": null,
   "metadata": {
    "collapsed": true
   },
   "outputs": [],
   "source": [
    "#from IPython.html.widgets import interact\n",
    "from __future__ import print_function\n",
    "from ipywidgets import interact, interactive, fixed, interact_manual\n",
    "import ipywidgets as widgets\n",
    "\n",
    "def plot_svm(N=10):\n",
    "    X, y = make_blobs(n_samples=200, centers=2,\n",
    "                      random_state=0, cluster_std=0.60)\n",
    "    X = X[:N]\n",
    "    y = y[:N]\n",
    "    clf = SVC(kernel='linear')\n",
    "    clf.fit(X, y)\n",
    "    plt.scatter(X[:, 0], X[:, 1], c=y, s=50, cmap='spring')\n",
    "    plt.xlim(-1, 4)\n",
    "    plt.ylim(-1, 6)\n",
    "    plot_svc_decision_function(clf, plt.gca())\n",
    "    plt.scatter(clf.support_vectors_[:, 0], clf.support_vectors_[:, 1],\n",
    "                s=200, facecolors='r')\n",
    "    plt.show()\n",
    "    \n",
    "#interact(plot_svm, N=widgets.IntSlider(min=10,max=200,step=1,value=10), kernel='linear');\n",
    "\n",
    "\n",
    "interactive_plot = interactive(plot_svm, N=(10, 200))\n",
    "output = interactive_plot.children[-1]\n",
    "output.layout.height = '350px'\n",
    "interactive_plot\n",
    "\n"
   ]
  },
  {
   "cell_type": "code",
   "execution_count": null,
   "metadata": {
    "collapsed": true
   },
   "outputs": [],
   "source": [
    "from sklearn.datasets.samples_generator import make_circles\n",
    "X, y = make_circles(100, factor=.1, noise=.1)\n",
    "\n",
    "clf = SVC(kernel='linear').fit(X, y)\n",
    "\n",
    "plt.scatter(X[:, 0], X[:, 1], c=y, s=50, cmap='spring')\n",
    "plot_svc_decision_function(clf);"
   ]
  },
  {
   "cell_type": "markdown",
   "metadata": {},
   "source": [
    "Clearly, no linear discrimination will ever separate these data. One way we can adjust this is to apply a kernel, which is some functional transformation of the input data.\n",
    "\n",
    "For example, one simple model we could use is a radial basis function"
   ]
  },
  {
   "cell_type": "code",
   "execution_count": null,
   "metadata": {
    "collapsed": true
   },
   "outputs": [],
   "source": [
    "r = np.exp(-(X[:, 0] ** 2 + X[:, 1] ** 2))"
   ]
  },
  {
   "cell_type": "code",
   "execution_count": null,
   "metadata": {
    "collapsed": true
   },
   "outputs": [],
   "source": [
    "from mpl_toolkits import mplot3d\n",
    "\n",
    "def plot_3D(elev=30, azim=30):\n",
    "    ax = plt.subplot(projection='3d')\n",
    "    ax.scatter3D(X[:, 0], X[:, 1], r, c=y, s=50, cmap='spring')\n",
    "    ax.view_init(elev=elev, azim=azim)\n",
    "    ax.set_xlabel('x')\n",
    "    ax.set_ylabel('y')\n",
    "    ax.set_zlabel('r')\n",
    "\n",
    "#interact(plot_3D, elev=(-90, 90), azip=(-180, 180));\n",
    "\n",
    "interactive_plot = interactive(plot_3D, elev=(-90, 90), azip=(-180, 180))\n",
    "output = interactive_plot.children[-1]\n",
    "output.layout.height = '350px'\n",
    "interactive_plot"
   ]
  },
  {
   "cell_type": "markdown",
   "metadata": {},
   "source": [
    "\n",
    "We can see that with this additional dimension, the data becomes trivially linearly separable! This is a relatively simple kernel; SVM has a more sophisticated version of this kernel built-in to the process. This is accomplished by using kernel='rbf', short for radial basis function:"
   ]
  },
  {
   "cell_type": "code",
   "execution_count": null,
   "metadata": {
    "collapsed": true
   },
   "outputs": [],
   "source": [
    "clf = SVC(kernel='rbf')\n",
    "clf.fit(X, y)\n",
    "\n",
    "plt.scatter(X[:, 0], X[:, 1], c=y, s=50, cmap='spring')\n",
    "plot_svc_decision_function(clf)\n",
    "plt.scatter(clf.support_vectors_[:, 0], clf.support_vectors_[:, 1],\n",
    "            s=200, edgecolors = 'r',facecolors='none');"
   ]
  },
  {
   "cell_type": "markdown",
   "metadata": {},
   "source": [
    "## Supervised Learning In-Depth: Random Forests\n",
    "Previously we saw a powerful discriminative classifier, Support Vector Machines. Here we'll take a look at motivating another powerful algorithm. This one is a non-parametric algorithm called Random Forests"
   ]
  },
  {
   "cell_type": "markdown",
   "metadata": {},
   "source": [
    "Motivating Random Forests: Decision Trees\n",
    "\n",
    "Random forests are an example of an ensemble learner built on decision trees. For this reason we'll start by discussing decision trees themselves.\n",
    "\n",
    "Decision trees are extremely intuitive ways to classify or label objects: you simply ask a series of questions designed to zero-in on the classification:"
   ]
  },
  {
   "cell_type": "markdown",
   "metadata": {},
   "source": [
    "![](data:image/png;base64,iVBORw0KGgoAAAANSUhEUgAAAk4AAAFFCAYAAAAadmKrAAAABHNCSVQICAgIfAhkiAAAAAlwSFlz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%0A)"
   ]
  },
  {
   "cell_type": "markdown",
   "metadata": {},
   "source": [
    "The binary splitting makes this extremely efficient. As always, though, the trick is to ask the right questions. This is where the algorithmic process comes in: in training a decision tree classifier, the algorithm looks at the features and decides which questions (or \"splits\") contain the most information."
   ]
  },
  {
   "cell_type": "code",
   "execution_count": null,
   "metadata": {
    "collapsed": true
   },
   "outputs": [],
   "source": [
    "from sklearn.datasets import make_blobs\n",
    "\n",
    "X, y = make_blobs(n_samples=300, centers=4,\n",
    "                  random_state=0, cluster_std=1.0)\n",
    "plt.scatter(X[:, 0], X[:, 1], c=y, s=50, cmap='rainbow');"
   ]
  },
  {
   "cell_type": "markdown",
   "metadata": {},
   "source": [
    "![](data:image/png;base64,iVBORw0KGgoAAAANSUhEUgAAAd8AAAFRCAYAAAA1uqfwAAAABHNCSVQICAgIfAhkiAAAAAlwSFlz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%0AH9erY0+ktM3fAAAAAElFTkSuQmCC%0A)"
   ]
  },
  {
   "cell_type": "code",
   "execution_count": null,
   "metadata": {
    "collapsed": true
   },
   "outputs": [],
   "source": [
    "def visualize_tree(estimator, X, y, boundaries=True,\n",
    "                   xlim=None, ylim=None):\n",
    "    estimator.fit(X, y)\n",
    "\n",
    "    if xlim is None:\n",
    "        xlim = (X[:, 0].min() - 0.1, X[:, 0].max() + 0.1)\n",
    "    if ylim is None:\n",
    "        ylim = (X[:, 1].min() - 0.1, X[:, 1].max() + 0.1)\n",
    "\n",
    "    x_min, x_max = xlim\n",
    "    y_min, y_max = ylim\n",
    "    xx, yy = np.meshgrid(np.linspace(x_min, x_max, 100),\n",
    "                         np.linspace(y_min, y_max, 100))\n",
    "    Z = estimator.predict(np.c_[xx.ravel(), yy.ravel()])\n",
    "\n",
    "    # Put the result into a color plot\n",
    "    Z = Z.reshape(xx.shape)\n",
    "    plt.figure()\n",
    "    plt.pcolormesh(xx, yy, Z, alpha=0.2, cmap='rainbow')\n",
    "    plt.clim(y.min(), y.max())\n",
    "\n",
    "    # Plot also the training points\n",
    "    plt.scatter(X[:, 0], X[:, 1], c=y, s=50, cmap='rainbow')\n",
    "    plt.axis('off')\n",
    "\n",
    "    plt.xlim(x_min, x_max)\n",
    "    plt.ylim(y_min, y_max)        \n",
    "    plt.clim(y.min(), y.max())\n",
    "    \n",
    "    # Plot the decision boundaries\n",
    "    def plot_boundaries(i, xlim, ylim):\n",
    "        if i < 0:\n",
    "            return\n",
    "\n",
    "        tree = estimator.tree_\n",
    "        \n",
    "        if tree.feature[i] == 0:\n",
    "            plt.plot([tree.threshold[i], tree.threshold[i]], ylim, '-k')\n",
    "            plot_boundaries(tree.children_left[i],\n",
    "                            [xlim[0], tree.threshold[i]], ylim)\n",
    "            plot_boundaries(tree.children_right[i],\n",
    "                            [tree.threshold[i], xlim[1]], ylim)\n",
    "        \n",
    "        elif tree.feature[i] == 1:\n",
    "            plt.plot(xlim, [tree.threshold[i], tree.threshold[i]], '-k')\n",
    "            plot_boundaries(tree.children_left[i], xlim,\n",
    "                            [ylim[0], tree.threshold[i]])\n",
    "            plot_boundaries(tree.children_right[i], xlim,\n",
    "                            [tree.threshold[i], ylim[1]])\n",
    "            \n",
    "    if boundaries:\n",
    "        plot_boundaries(0, plt.xlim(), plt.ylim())\n",
    "\n",
    "\n",
    "def plot_tree_interactive(X, y):\n",
    "    from sklearn.tree import DecisionTreeClassifier\n",
    "\n",
    "    def interactive_tree(depth=1):\n",
    "        clf = DecisionTreeClassifier(max_depth=depth, random_state=0)\n",
    "        visualize_tree(clf, X, y)\n",
    "\n",
    "    from IPython.html.widgets import interact\n",
    "    return interact(interactive_tree, depth=(1, 5))"
   ]
  },
  {
   "cell_type": "code",
   "execution_count": null,
   "metadata": {
    "collapsed": true
   },
   "outputs": [],
   "source": [
    "\n",
    "plot_tree_interactive(X, y);"
   ]
  },
  {
   "cell_type": "markdown",
   "metadata": {},
   "source": [
    "#### Decision Trees and over-fitting\n",
    "One issue with decision trees is that it is very easy to create trees which over-fit the data. That is, they are flexible enough that they can learn the structure of the noise in the data rather than the signal! For example, take a look at two trees built on two subsets of this dataset:"
   ]
  },
  {
   "cell_type": "code",
   "execution_count": null,
   "metadata": {
    "collapsed": true
   },
   "outputs": [],
   "source": [
    "from sklearn.tree import DecisionTreeClassifier\n",
    "clf = DecisionTreeClassifier()\n",
    "\n",
    "plt.figure()\n",
    "visualize_tree(clf, X[:200], y[:200], boundaries=False)\n",
    "plt.figure()\n",
    "visualize_tree(clf, X[-200:], y[-200:], boundaries=False)"
   ]
  },
  {
   "cell_type": "markdown",
   "metadata": {},
   "source": [
    "The details of the classifications are completely different! That is an indication of over-fitting: when you predict the value for a new point, the result is more reflective of the noise in the model rather than the signal."
   ]
  },
  {
   "cell_type": "code",
   "execution_count": null,
   "metadata": {
    "collapsed": true
   },
   "outputs": [],
   "source": [
    "\n",
    "from sklearn.ensemble import RandomForestClassifier\n",
    "clf = RandomForestClassifier(n_estimators=400, random_state=0, n_jobs= -1)\n",
    "# n_jobs uses more core\n",
    "visualize_tree(clf, X, y, boundaries=False);"
   ]
  },
  {
   "cell_type": "markdown",
   "metadata": {},
   "source": [
    "By averaging over 100 randomly perturbed models, we end up with an overall model which is a much better fit to our data!\n",
    "\n",
    "(Note: above we randomized the model through sub-sampling... Random Forests use more sophisticated means of randomization, which you can read about in, e.g. the scikit-learn documentation)"
   ]
  },
  {
   "cell_type": "code",
   "execution_count": null,
   "metadata": {
    "collapsed": true
   },
   "outputs": [],
   "source": [
    "clf.feature_importances_"
   ]
  },
  {
   "cell_type": "markdown",
   "metadata": {},
   "source": [
    "### Quick Example: Moving to Regression\n",
    "\n",
    "\n",
    "Above we were considering random forests within the context of classification. Random forests can also be made to work in the case of regression (that is, continuous rather than categorical variables). The estimator to use for this is sklearn.ensemble.RandomForestRegressor.\n",
    "Let's quickly demonstrate how this can be used:"
   ]
  },
  {
   "cell_type": "code",
   "execution_count": null,
   "metadata": {
    "collapsed": true
   },
   "outputs": [],
   "source": [
    "from sklearn.ensemble import RandomForestRegressor\n",
    "\n",
    "x = 10 * np.random.rand(100)\n",
    "\n",
    "def model(x, sigma=0.3):\n",
    "    fast_oscillation = np.sin(5 * x)\n",
    "    slow_oscillation = np.sin(0.5 * x)\n",
    "    noise = sigma * np.random.randn(len(x))\n",
    "\n",
    "    return slow_oscillation + fast_oscillation + noise\n",
    "\n",
    "y = model(x)\n",
    "plt.errorbar(x, y, 0.3, fmt='o');"
   ]
  },
  {
   "cell_type": "code",
   "execution_count": null,
   "metadata": {
    "collapsed": true
   },
   "outputs": [],
   "source": [
    "xfit = np.linspace(0, 10, 1000)\n",
    "yfit = RandomForestRegressor(100).fit(x[:, None], y).predict(xfit[:, None])\n",
    "ytrue = model(xfit, 0)\n",
    "\n",
    "plt.errorbar(x, y, 0.3, fmt='o')\n",
    "plt.plot(xfit, yfit, '-r');\n",
    "plt.plot(xfit, ytrue, '-k', alpha=0.5);"
   ]
  },
  {
   "cell_type": "markdown",
   "metadata": {},
   "source": [
    "As you can see, the non-parametric random forest model is flexible enough to fit the multi-period data, without us even specifying a multi-period model!"
   ]
  },
  {
   "cell_type": "markdown",
   "metadata": {},
   "source": [
    "#### Example: Random Forest for Classifying Digits\n",
    "We previously saw the hand-written digits data. Let's use that here to test the efficacy of the SVM and Random Forest classifiers."
   ]
  },
  {
   "cell_type": "code",
   "execution_count": null,
   "metadata": {
    "collapsed": true
   },
   "outputs": [],
   "source": [
    "digits.keys()"
   ]
  },
  {
   "cell_type": "code",
   "execution_count": null,
   "metadata": {
    "collapsed": true
   },
   "outputs": [],
   "source": [
    "X = digits.data\n",
    "y = digits.target\n",
    "print(X.shape)\n",
    "print(y.shape)"
   ]
  },
  {
   "cell_type": "code",
   "execution_count": null,
   "metadata": {
    "collapsed": true
   },
   "outputs": [],
   "source": [
    "# set up the figure\n",
    "fig = plt.figure(figsize=(6, 6))  # figure size in inches\n",
    "fig.subplots_adjust(left=0, right=1, bottom=0, top=1, hspace=0.05, wspace=0.05)\n",
    "\n",
    "# plot the digits: each image is 8x8 pixels\n",
    "for i in range(64):\n",
    "    ax = fig.add_subplot(8, 8, i + 1, xticks=[], yticks=[])\n",
    "    ax.imshow(digits.images[i], cmap=plt.cm.binary, interpolation='nearest')\n",
    "    \n",
    "    # label the image with the target value\n",
    "    ax.text(0, 7, str(digits.target[i]))"
   ]
  },
  {
   "cell_type": "code",
   "execution_count": null,
   "metadata": {
    "collapsed": true
   },
   "outputs": [],
   "source": [
    "from sklearn import metrics\n",
    "\n",
    "Xtrain, Xtest, ytrain, ytest = train_test_split(X, y, random_state=0)\n",
    "clf = DecisionTreeClassifier(max_depth=11)\n",
    "clf.fit(Xtrain, ytrain)\n",
    "ypred = clf.predict(Xtest)"
   ]
  },
  {
   "cell_type": "code",
   "execution_count": null,
   "metadata": {
    "collapsed": true
   },
   "outputs": [],
   "source": [
    "metrics.accuracy_score(ypred, ytest)"
   ]
  },
  {
   "cell_type": "code",
   "execution_count": null,
   "metadata": {
    "collapsed": true
   },
   "outputs": [],
   "source": [
    "plt.imshow(metrics.confusion_matrix(ypred, ytest),\n",
    "           interpolation='nearest', cmap=plt.cm.binary)\n",
    "plt.grid(False)\n",
    "plt.colorbar()\n",
    "plt.xlabel(\"predicted label\")\n",
    "plt.ylabel(\"true label\");"
   ]
  },
  {
   "cell_type": "code",
   "execution_count": null,
   "metadata": {
    "collapsed": true
   },
   "outputs": [],
   "source": [
    "clf = RandomForestClassifier(max_features= 3,n_estimators=200, max_depth=20)\n",
    "clf.fit(Xtrain, ytrain)\n",
    "ypred = clf.predict(Xtest)"
   ]
  },
  {
   "cell_type": "code",
   "execution_count": null,
   "metadata": {
    "collapsed": true
   },
   "outputs": [],
   "source": [
    "metrics.accuracy_score(ypred, ytest)"
   ]
  },
  {
   "cell_type": "code",
   "execution_count": null,
   "metadata": {
    "collapsed": true
   },
   "outputs": [],
   "source": [
    "plt.imshow(metrics.confusion_matrix(ypred, ytest),\n",
    "           interpolation='nearest', cmap=plt.cm.binary)\n",
    "plt.grid(False)\n",
    "plt.colorbar()\n",
    "plt.xlabel(\"predicted label\")\n",
    "plt.ylabel(\"true label\");"
   ]
  },
  {
   "cell_type": "code",
   "execution_count": null,
   "metadata": {
    "collapsed": true
   },
   "outputs": [],
   "source": []
  },
  {
   "cell_type": "code",
   "execution_count": null,
   "metadata": {
    "collapsed": true
   },
   "outputs": [],
   "source": [
    "clf = SVC(C= 6,kernel= 'linear' , gamma=4)\n",
    "clf.fit(Xtrain, ytrain)\n",
    "ypred = clf.predict(Xtest)"
   ]
  },
  {
   "cell_type": "code",
   "execution_count": null,
   "metadata": {
    "collapsed": true
   },
   "outputs": [],
   "source": [
    "metrics.accuracy_score(ypred, ytest)"
   ]
  },
  {
   "cell_type": "markdown",
   "metadata": {},
   "source": [
    "### Dimensionality Reduction: Principal Component Analysis in-depth"
   ]
  },
  {
   "cell_type": "code",
   "execution_count": null,
   "metadata": {
    "collapsed": true
   },
   "outputs": [],
   "source": [
    "\n",
    "np.random.seed(1)\n",
    "X = np.dot(np.random.random(size=(2, 2)), np.random.normal(size=(2, 200))).T\n",
    "plt.plot(X[:, 0], X[:, 1], 'o')\n",
    "plt.axis('equal');"
   ]
  },
  {
   "cell_type": "code",
   "execution_count": null,
   "metadata": {
    "collapsed": true
   },
   "outputs": [],
   "source": [
    "X.shape"
   ]
  },
  {
   "cell_type": "code",
   "execution_count": null,
   "metadata": {
    "collapsed": true
   },
   "outputs": [],
   "source": [
    "\n",
    "from sklearn.decomposition import PCA\n",
    "pca = PCA(n_components=2)\n",
    "pca.fit(X)\n",
    "print(pca.explained_variance_)\n",
    "print(pca.explained_variance_ratio_)\n",
    "print(pca.components_)"
   ]
  },
  {
   "cell_type": "code",
   "execution_count": null,
   "metadata": {
    "collapsed": true
   },
   "outputs": [],
   "source": [
    "\n",
    "plt.plot(X[:, 0], X[:, 1], 'o', alpha=0.5)\n",
    "for length, vector in zip(pca.explained_variance_, pca.components_):\n",
    "    v = vector * 3 * np.sqrt(length)\n",
    "    plt.plot([0, v[0]], [0, v[1]], '-k', lw=3)\n",
    "plt.axis('equal');"
   ]
  },
  {
   "cell_type": "markdown",
   "metadata": {},
   "source": [
    "Notice that one vector is longer than the other. In a sense, this tells us that that direction in the data is somehow more \"important\" than the other direction. The explained variance quantifies this measure of \"importance\" in direction.\n",
    "Another way to think of it is that the second principal component could be completely ignored without much loss of information! Let's see what our data look like if we only keep 95% of the variance:"
   ]
  },
  {
   "cell_type": "code",
   "execution_count": null,
   "metadata": {
    "collapsed": true
   },
   "outputs": [],
   "source": [
    "\n",
    "clf = PCA(0.95) # keep 95% of variance\n",
    "X_trans = clf.fit_transform(X)\n",
    "print(X.shape)\n",
    "print(X_trans.shape)"
   ]
  },
  {
   "cell_type": "markdown",
   "metadata": {},
   "source": [
    "By specifying that we want to throw away 5% of the variance, the data is now compressed by a factor of 50%! Let's see what the data look like after this compression:"
   ]
  },
  {
   "cell_type": "code",
   "execution_count": null,
   "metadata": {
    "collapsed": true
   },
   "outputs": [],
   "source": [
    "\n",
    "X_new = clf.inverse_transform(X_trans)\n",
    "plt.plot(X[:, 0], X[:, 1], 'o', alpha=0.2)\n",
    "plt.plot(X_new[:, 0], X_new[:, 1], 'ob', alpha=0.8)\n",
    "plt.axis('equal');"
   ]
  },
  {
   "cell_type": "markdown",
   "metadata": {},
   "source": [
    "The light points are the original data, while the dark points are the projected version. We see that after truncating 5% of the variance of this dataset and then reprojecting it, the \"most important\" features of the data are maintained, and we've compressed the data by 50%!\n",
    "This is the sense in which \"dimensionality reduction\" works: if you can approximate a data set in a lower dimension, you can often have an easier time visualizing it or fitting complicated models to the data."
   ]
  },
  {
   "cell_type": "markdown",
   "metadata": {},
   "source": [
    "#### Application of PCA to Digits\n",
    "The dimensionality reduction might seem a bit abstract in two dimensions, but the projection and dimensionality reduction can be extremely useful when visualizing high-dimensional data. Let's take a quick look at the application of PCA to the digits data we looked at before:"
   ]
  },
  {
   "cell_type": "code",
   "execution_count": null,
   "metadata": {
    "collapsed": true
   },
   "outputs": [],
   "source": [
    "X = digits.data\n",
    "y = digits.target"
   ]
  },
  {
   "cell_type": "code",
   "execution_count": null,
   "metadata": {
    "collapsed": true
   },
   "outputs": [],
   "source": [
    "\n",
    "pca = PCA(2)  # project from 64 to 2 dimensions\n",
    "Xproj = pca.fit_transform(X)\n",
    "print(X.shape)\n",
    "print(Xproj.shape)"
   ]
  },
  {
   "cell_type": "code",
   "execution_count": null,
   "metadata": {
    "collapsed": true
   },
   "outputs": [],
   "source": [
    "plt.scatter(Xproj[:, 0], Xproj[:, 1], c=y, edgecolor='none', alpha=0.5,\n",
    "            cmap=plt.cm.get_cmap('nipy_spectral', 10))\n",
    "plt.colorbar();"
   ]
  },
  {
   "cell_type": "markdown",
   "metadata": {},
   "source": [
    "This gives us an idea of the relationship between the digits. Essentially, we have found the optimal stretch and rotation in 64-dimensional space that allows us to see the layout of the digits, without reference to the labels.\n",
    "\n",
    "https://github.com/jakevdp/sklearn_tutorial/blob/master/notebooks/04.1-Dimensionality-PCA.ipynb"
   ]
  },
  {
   "cell_type": "markdown",
   "metadata": {},
   "source": [
    "Thus we see that PCA can be viewed from two angles. It can be viewed as dimensionality reduction, or it can be viewed as a form of lossy data compression where the loss favors noise. In this way, PCA can be used as a filtering process as well.\n",
    "#### Choosing the Number of Components\n",
    "But how much information have we thrown away? We can figure this out by looking at the explained variance as a function of the components:"
   ]
  },
  {
   "cell_type": "code",
   "execution_count": null,
   "metadata": {
    "collapsed": true
   },
   "outputs": [],
   "source": [
    "# use seaborn plotting style defaults\n",
    "import seaborn as sns; sns.set()\n",
    "pca = PCA().fit(X)\n",
    "plt.plot(np.cumsum(pca.explained_variance_ratio_))\n",
    "plt.xlabel('number of components')\n",
    "plt.ylabel('cumulative explained variance');"
   ]
  },
  {
   "cell_type": "markdown",
   "metadata": {},
   "source": [
    "\n",
    "Here we see that our two-dimensional projection loses a lot of information (as measured by the explained variance) and that we'd need about 20 components to retain 90% of the variance. Looking at this plot for a high-dimensional dataset can help you understand the level of redundancy present in multiple observations."
   ]
  },
  {
   "cell_type": "markdown",
   "metadata": {},
   "source": [
    "#### PCA as data compression\n",
    "As we mentioned, PCA can be used for is a sort of data compression. Using a small n_components allows you to represent a high dimensional point as a sum of just a few principal vectors.\n",
    "Here's what a single digit looks like as you change the number of components:"
   ]
  },
  {
   "cell_type": "code",
   "execution_count": null,
   "metadata": {
    "collapsed": true
   },
   "outputs": [],
   "source": [
    "fig, axes = plt.subplots(8, 8, figsize=(8, 8))\n",
    "fig.subplots_adjust(hspace=0.1, wspace=0.1)\n",
    "\n",
    "for i, ax in enumerate(axes.flat):\n",
    "    pca = PCA(i + 1).fit(X)\n",
    "    im = pca.inverse_transform(pca.transform(X[20:21]))\n",
    "\n",
    "    ax.imshow(im.reshape((8, 8)), cmap='binary')\n",
    "    ax.text(0.95, 0.05, 'n = {0}'.format(i + 1), ha='right',\n",
    "            transform=ax.transAxes, color='green')\n",
    "    ax.set_xticks([])\n",
    "    ax.set_yticks([]) "
   ]
  },
  {
   "cell_type": "code",
   "execution_count": null,
   "metadata": {
    "collapsed": true
   },
   "outputs": [],
   "source": [
    "\n",
    "from IPython.html.widgets import interact\n",
    "\n",
    "def plot_digits(n_components):\n",
    "    fig = plt.figure(figsize=(8, 8))\n",
    "    plt.subplot(1, 1, 1, frameon=False, xticks=[], yticks=[])\n",
    "    nside = 10\n",
    "    \n",
    "    pca = PCA(n_components).fit(X)\n",
    "    Xproj = pca.inverse_transform(pca.transform(X[:nside ** 2]))\n",
    "    Xproj = np.reshape(Xproj, (nside, nside, 8, 8))\n",
    "    total_var = pca.explained_variance_ratio_.sum()\n",
    "    \n",
    "    im = np.vstack([np.hstack([Xproj[i, j] for j in range(nside)])\n",
    "                    for i in range(nside)])\n",
    "    plt.imshow(im)\n",
    "    plt.grid(False)\n",
    "    plt.title(\"n = {0}, variance = {1:.2f}\".format(n_components, total_var),\n",
    "                 size=18)\n",
    "    plt.clim(0, 16)\n",
    "    \n",
    "interact(plot_digits, n_components=(1, 64), nside=(1, 8));"
   ]
  },
  {
   "cell_type": "markdown",
   "metadata": {},
   "source": [
    "####  Oth Dimensionality Reducting Routines\n",
    "Note that scikit-learn contains many other unsupervised dimensionality reduction routines: some you might wish to try are Other dimensionality reduction techniques which are useful to know about:\n",
    "sklearn.decomposition.PCA: Principal Component Analysis\n",
    "sklearn.decomposition.RandomizedPCA: extremely fast approximate PCA implementation based on a randomized algorithm\n",
    "sklearn.decomposition.SparsePCA: PCA variant including L1 penalty for sparsity\n",
    "sklearn.decomposition.FastICA: Independent Component Analysis\n",
    "sklearn.decomposition.NMF: non-negative matrix factorization\n",
    "sklearn.manifold.LocallyLinearEmbedding: nonlinear manifold learning technique based on local neighborhood geometry\n",
    "sklearn.manifold.IsoMap: nonlinear manifold learning technique based on a sparse graph algorithm"
   ]
  },
  {
   "cell_type": "markdown",
   "metadata": {},
   "source": [
    "### Clustering: K-Means In-Depth\n",
    "Here we'll explore K Means Clustering, which is an unsupervised clustering technique.\n",
    "\n",
    "\n",
    "K Means is an algorithm for unsupervised clustering: that is, finding clusters in data based on the data attributes alone (not the labels).\n",
    "\n",
    "K Means is a relatively easy-to-understand algorithm. It searches for cluster centers which are the mean of the points within them, such that every point is closest to the cluster center it is assigned to.\n",
    "\n",
    "Let's look at how KMeans operates on the simple clusters we looked at previously. To emphasize that this is unsupervised, we'll not plot the colors of the clusters:"
   ]
  },
  {
   "cell_type": "code",
   "execution_count": null,
   "metadata": {
    "collapsed": true
   },
   "outputs": [],
   "source": [
    "from sklearn.datasets.samples_generator import make_blobs\n",
    "X, y = make_blobs(n_samples=300, centers=4,\n",
    "                  random_state=0, cluster_std=0.60)\n",
    "plt.scatter(X[:, 0], X[:, 1], s=50);"
   ]
  },
  {
   "cell_type": "markdown",
   "metadata": {},
   "source": [
    "By eye, it is relatively easy to pick out the four clusters. If you were to perform an exhaustive search for the different segmentations of the data, however, the search space would be exponential in the number of points. Fortunately, there is a well-known Expectation Maximization (EM) procedure which scikit-learn implements, so that KMeans can be solved relatively quickly."
   ]
  },
  {
   "cell_type": "code",
   "execution_count": null,
   "metadata": {
    "collapsed": true
   },
   "outputs": [],
   "source": [
    "from sklearn.cluster import KMeans\n",
    "est = KMeans(4)  # 4 clusters\n",
    "est.fit(X)\n",
    "y_kmeans = est.predict(X)\n",
    "plt.scatter(X[:, 0], X[:, 1], c=y_kmeans, s=50, cmap='rainbow');"
   ]
  },
  {
   "cell_type": "markdown",
   "metadata": {},
   "source": [
    "#### The K-Means Algorithm: Expectation Maximization\n",
    "K-Means is an example of an algorithm which uses an Expectation-Maximization approach to arrive at the solution. Expectation-Maximization is a two-step approach which works as follows:\n",
    "\n",
    "Guess some cluster centers\n",
    "\n",
    "Repeat until converged \n",
    "\n",
    "A. Assign points to the nearest cluster center \n",
    "\n",
    "B. Set the cluster centers to the mean"
   ]
  },
  {
   "cell_type": "markdown",
   "metadata": {},
   "source": [
    "#### KMeans Caveats\n",
    "The convergence of this algorithm is not guaranteed; for that reason, scikit-learn by default uses a large number of random initializations and finds the best results.\n",
    "Also, the number of clusters must be set beforehand... there are other clustering algorithms for which this requirement may be lifted."
   ]
  },
  {
   "cell_type": "code",
   "execution_count": null,
   "metadata": {
    "collapsed": true
   },
   "outputs": [],
   "source": [
    "est = KMeans(n_clusters=10)\n",
    "clusters = est.fit_predict(digits.data)\n",
    "est.cluster_centers_.shape"
   ]
  },
  {
   "cell_type": "code",
   "execution_count": null,
   "metadata": {
    "collapsed": true
   },
   "outputs": [],
   "source": [
    "fig = plt.figure(figsize=(8, 3))\n",
    "for i in range(10):\n",
    "    ax = fig.add_subplot(2, 5, 1 + i, xticks=[], yticks=[])\n",
    "    ax.imshow(est.cluster_centers_[i].reshape((8, 8)), cmap=plt.cm.binary)"
   ]
  },
  {
   "cell_type": "code",
   "execution_count": null,
   "metadata": {
    "collapsed": true
   },
   "outputs": [],
   "source": [
    "est.cluster_centers_[0]"
   ]
  },
  {
   "cell_type": "markdown",
   "metadata": {},
   "source": [
    "We see that even without the labels, KMeans is able to find clusters whose means are recognizable digits (with apologies to the number 8)!\n",
    "The cluster labels are permuted; let's fix this:"
   ]
  },
  {
   "cell_type": "code",
   "execution_count": null,
   "metadata": {
    "collapsed": true
   },
   "outputs": [],
   "source": [
    "# predict cluster number\n",
    "clusters"
   ]
  },
  {
   "cell_type": "code",
   "execution_count": null,
   "metadata": {
    "collapsed": true
   },
   "outputs": [],
   "source": [
    "from scipy.stats import mode\n",
    "\n",
    "labels = np.zeros_like(clusters) # for learned cluster\n",
    "for i in range(10):\n",
    "    mask = (clusters == i)\n",
    "    labels[mask] = mode(digits.target[mask])[0]"
   ]
  },
  {
   "cell_type": "code",
   "execution_count": null,
   "metadata": {
    "collapsed": true
   },
   "outputs": [],
   "source": [
    "mask"
   ]
  },
  {
   "cell_type": "code",
   "execution_count": null,
   "metadata": {
    "collapsed": true
   },
   "outputs": [],
   "source": [
    "len(mask)"
   ]
  },
  {
   "cell_type": "code",
   "execution_count": null,
   "metadata": {
    "collapsed": true
   },
   "outputs": [],
   "source": [
    "digits.target[mask]"
   ]
  },
  {
   "cell_type": "code",
   "execution_count": null,
   "metadata": {
    "collapsed": true
   },
   "outputs": [],
   "source": [
    "len(digits.target)"
   ]
  },
  {
   "cell_type": "code",
   "execution_count": null,
   "metadata": {
    "collapsed": true
   },
   "outputs": [],
   "source": [
    "len(digits.target[mask])"
   ]
  },
  {
   "cell_type": "code",
   "execution_count": null,
   "metadata": {
    "collapsed": true
   },
   "outputs": [],
   "source": [
    "mode(digits.target[mask])"
   ]
  },
  {
   "cell_type": "code",
   "execution_count": null,
   "metadata": {
    "collapsed": true
   },
   "outputs": [],
   "source": [
    "mode(digits.target[mask])[0]"
   ]
  },
  {
   "cell_type": "code",
   "execution_count": null,
   "metadata": {
    "collapsed": true
   },
   "outputs": [],
   "source": [
    "mode(digits.target[mask])[1]"
   ]
  },
  {
   "cell_type": "code",
   "execution_count": null,
   "metadata": {
    "collapsed": true
   },
   "outputs": [],
   "source": [
    "from sklearn.decomposition import PCA\n",
    "\n",
    "X = PCA(2).fit_transform(digits.data)\n",
    "\n",
    "kwargs = dict(cmap = plt.cm.get_cmap('rainbow', 10),\n",
    "              edgecolor='none', alpha=0.6)\n",
    "fig, ax = plt.subplots(1, 2, figsize=(8, 4))\n",
    "ax[0].scatter(X[:, 0], X[:, 1], c=labels, **kwargs)\n",
    "ax[0].set_title('learned cluster labels')\n",
    "\n",
    "ax[1].scatter(X[:, 0], X[:, 1], c=digits.target, **kwargs)\n",
    "ax[1].set_title('true labels');"
   ]
  },
  {
   "cell_type": "code",
   "execution_count": null,
   "metadata": {
    "collapsed": true
   },
   "outputs": [],
   "source": [
    "from sklearn.metrics import accuracy_score\n",
    "accuracy_score(digits.target, labels)"
   ]
  },
  {
   "cell_type": "code",
   "execution_count": null,
   "metadata": {
    "collapsed": true
   },
   "outputs": [],
   "source": [
    "from sklearn.metrics import confusion_matrix\n",
    "print(confusion_matrix(digits.target, labels))\n",
    "\n",
    "plt.imshow(confusion_matrix(digits.target, labels),\n",
    "           cmap='Blues', interpolation='nearest')\n",
    "plt.colorbar()\n",
    "plt.grid(False)\n",
    "plt.ylabel('true')\n",
    "plt.xlabel('predicted');"
   ]
  },
  {
   "cell_type": "markdown",
   "metadata": {},
   "source": [
    "#### Example: KMeans for Color Compression\n",
    "One interesting application of clustering is in color image compression. For example, imagine you have an image with millions of colors. In most images, a large number of the colors will be unused, and conversely a large number of pixels will have similar or identical colors.\n",
    "Scikit-learn has a number of images that you can play with, accessed through the datasets module. For example:"
   ]
  },
  {
   "cell_type": "code",
   "execution_count": null,
   "metadata": {
    "collapsed": true
   },
   "outputs": [],
   "source": [
    "from sklearn.datasets import load_sample_image\n",
    "china = load_sample_image(\"china.jpg\")\n",
    "plt.imshow(china)\n",
    "plt.grid(False);"
   ]
  },
  {
   "cell_type": "code",
   "execution_count": null,
   "metadata": {
    "collapsed": true
   },
   "outputs": [],
   "source": [
    "#The image itself is stored in a 3-dimensional array, of size (height, width, RGB):\n",
    "\n",
    "china.shape"
   ]
  },
  {
   "cell_type": "markdown",
   "metadata": {},
   "source": [
    "We can envision this image as a cloud of points in a 3-dimensional color space. We'll rescale the colors so they lie between 0 and 1, then reshape the array to be a typical scikit-learn input:"
   ]
  },
  {
   "cell_type": "code",
   "execution_count": null,
   "metadata": {
    "collapsed": true
   },
   "outputs": [],
   "source": [
    "X = (china / 255.0).reshape(-1, 3)\n",
    "print(X.shape)\n",
    "print(X[0])"
   ]
  },
  {
   "cell_type": "markdown",
   "metadata": {},
   "source": [
    "We now have 273,280 points in 3 dimensions.\n",
    "Our task is to use KMeans to compress the $256^3$ colors into a smaller number (say, 64 colors). Basically, we want to find $N_{color}$ clusters in the data, and create a new image where the true input color is replaced by the color of the closest cluster.\n",
    "Here we'll use MiniBatchKMeans, a more sophisticated estimator that performs better for larger datasets:"
   ]
  },
  {
   "cell_type": "code",
   "execution_count": null,
   "metadata": {
    "collapsed": true
   },
   "outputs": [],
   "source": [
    "from sklearn.cluster import MiniBatchKMeans"
   ]
  },
  {
   "cell_type": "code",
   "execution_count": null,
   "metadata": {
    "collapsed": true
   },
   "outputs": [],
   "source": [
    "# reduce the size of the image for speed\n",
    "n_colors = 64\n",
    "\n",
    "X = (china / 255.0).reshape(-1, 3)\n",
    "    \n",
    "model = MiniBatchKMeans(n_colors)\n",
    "labels = model.fit_predict(X)\n",
    "colors = model.cluster_centers_\n",
    "new_image = colors[labels].reshape(china.shape)\n",
    "new_image = (255 * new_image).astype(np.uint8)\n",
    "\n",
    "# create and plot the new image\n",
    "with sns.axes_style('white'):\n",
    "    plt.figure()\n",
    "    plt.imshow(china)\n",
    "    plt.title('input: 16 million colors')\n",
    "\n",
    "    plt.figure()\n",
    "    plt.imshow(new_image)\n",
    "    plt.title('{0} colors'.format(n_colors))"
   ]
  },
  {
   "cell_type": "code",
   "execution_count": null,
   "metadata": {
    "collapsed": true
   },
   "outputs": [],
   "source": [
    "colors.shape"
   ]
  },
  {
   "cell_type": "code",
   "execution_count": null,
   "metadata": {
    "collapsed": true
   },
   "outputs": [],
   "source": [
    "colors[0]"
   ]
  },
  {
   "cell_type": "code",
   "execution_count": null,
   "metadata": {
    "collapsed": true
   },
   "outputs": [],
   "source": [
    "labels"
   ]
  },
  {
   "cell_type": "code",
   "execution_count": null,
   "metadata": {
    "collapsed": true
   },
   "outputs": [],
   "source": [
    "np.unique(labels)"
   ]
  },
  {
   "cell_type": "code",
   "execution_count": null,
   "metadata": {
    "collapsed": true
   },
   "outputs": [],
   "source": [
    "len(labels)"
   ]
  },
  {
   "cell_type": "code",
   "execution_count": null,
   "metadata": {
    "collapsed": true
   },
   "outputs": [],
   "source": [
    "new_image.shape"
   ]
  },
  {
   "cell_type": "code",
   "execution_count": null,
   "metadata": {
    "collapsed": true
   },
   "outputs": [],
   "source": [
    "np.unique(new_image.squeeze()) "
   ]
  },
  {
   "cell_type": "markdown",
   "metadata": {},
   "source": [
    "Compare the input and output image: we've reduced the $256^3$ colors to just 64."
   ]
  },
  {
   "cell_type": "code",
   "execution_count": null,
   "metadata": {
    "collapsed": true
   },
   "outputs": [],
   "source": [
    "len(np.unique(new_image.squeeze()) )"
   ]
  },
  {
   "cell_type": "markdown",
   "metadata": {},
   "source": [
    "## Validation and Model Selection\n",
    "In this section, we'll look at model evaluation and the tuning of hyperparameters, which are parameters that define the model.\n",
    "\n",
    "### Validating Models\n",
    "One of the most important pieces of machine learning is model validation: that is, checking how well your model fits a given dataset. But there are some pitfalls you need to watch out for.\n",
    "Consider the digits example we've been looking at previously. How might we check how well our model fits the data?"
   ]
  },
  {
   "cell_type": "code",
   "execution_count": null,
   "metadata": {
    "collapsed": true
   },
   "outputs": [],
   "source": [
    "X = digits.data\n",
    "y = digits.target"
   ]
  },
  {
   "cell_type": "code",
   "execution_count": null,
   "metadata": {},
   "outputs": [],
   "source": [
    "knn = KNeighborsClassifier(n_neighbors=1)\n",
    "knn.fit(X, y)"
   ]
  },
  {
   "cell_type": "code",
   "execution_count": null,
   "metadata": {},
   "outputs": [],
   "source": [
    "y_pred = knn.predict(X)\n",
    "print(\"{0} / {1} correct\".format(np.sum(y == y_pred), len(y)))"
   ]
  },
  {
   "cell_type": "markdown",
   "metadata": {
    "collapsed": true
   },
   "source": [
    "### Validation Sets\n",
    "Above we made the mistake of testing our data on the same set of data that was used for training. This is not generally a good idea. If we optimize our estimator this way, we will tend to over-fit the data: that is, we learn the noise.\n",
    "\n",
    "A better way to test a model is to use a hold-out set which doesn't enter the training. We've seen this before using scikit-learn's train/test split utility:"
   ]
  },
  {
   "cell_type": "code",
   "execution_count": null,
   "metadata": {},
   "outputs": [],
   "source": [
    "X_train, X_test, y_train, y_test = train_test_split(X, y)\n",
    "X_train.shape, X_test.shape"
   ]
  },
  {
   "cell_type": "code",
   "execution_count": null,
   "metadata": {},
   "outputs": [],
   "source": [
    "\n",
    "knn = KNeighborsClassifier(n_neighbors=1)\n",
    "knn.fit(X_train, y_train)\n",
    "y_pred = knn.predict(X_test)\n",
    "print(\"{0} / {1} correct\".format(np.sum(y_test == y_pred), len(y_test)))"
   ]
  },
  {
   "cell_type": "markdown",
   "metadata": {},
   "source": [
    "This gives us a more reliable estimate of how our model is doing.\n",
    "The metric we're using here, comparing the number of matches to the total number of samples, is known as the accuracy score, and can be computed using the following routine:"
   ]
  },
  {
   "cell_type": "code",
   "execution_count": null,
   "metadata": {},
   "outputs": [],
   "source": [
    "accuracy_score(y_test, y_pred)"
   ]
  },
  {
   "cell_type": "code",
   "execution_count": null,
   "metadata": {},
   "outputs": [],
   "source": [
    "knn.score(X_test, y_test)"
   ]
  },
  {
   "cell_type": "code",
   "execution_count": null,
   "metadata": {},
   "outputs": [],
   "source": [
    "#Using this, we can ask how this changes as we change the model parameters, in this case the number of neighbors:\n",
    "for n_neighbors in [1, 5, 10, 20, 30]:\n",
    "    knn = KNeighborsClassifier(n_neighbors)\n",
    "    knn.fit(X_train, y_train)\n",
    "    print(n_neighbors, knn.score(X_test, y_test))"
   ]
  },
  {
   "cell_type": "markdown",
   "metadata": {},
   "source": [
    "#### Cross-Validation\n",
    "One problem with validation sets is that you \"lose\" some of the data. Above, we've only used 3/4 of the data for the training, and used 1/4 for the validation. Another option is to use 2-fold cross-validation, where we split the sample in half and perform the validation twice:\n",
    "\n",
    "scikit-learn has a utility routine to help:"
   ]
  },
  {
   "cell_type": "code",
   "execution_count": null,
   "metadata": {},
   "outputs": [],
   "source": [
    "from sklearn.cross_validation import cross_val_score\n",
    "cv = cross_val_score(KNeighborsClassifier(1), X, y, cv=10)\n",
    "cv.mean()"
   ]
  },
  {
   "cell_type": "markdown",
   "metadata": {
    "collapsed": true
   },
   "source": [
    "### K-fold Cross-Validation\n",
    "Here we've used 2-fold cross-validation. This is just one specialization of $K$-fold cross-validation, where we split the data into $K$ chunks and perform $K$ fits, where each chunk gets a turn as the validation set. We can do this by changing the cv parameter above. Let's do 10-fold cross-validation:"
   ]
  },
  {
   "cell_type": "code",
   "execution_count": null,
   "metadata": {},
   "outputs": [],
   "source": [
    "cv"
   ]
  },
  {
   "cell_type": "markdown",
   "metadata": {
    "collapsed": true
   },
   "source": [
    "### Overfitting, Underfitting and Model Selection\n",
    "\n",
    "#### Illustration of the Bias-Variance Tradeoff\n",
    "For this section, we'll work with a simple 1D regression problem. This will help us to easily visualize the data and the model, and the results generalize easily to higher-dimensional datasets. We'll explore a simple linear regression problem. This can be accomplished within scikit-learn with the sklearn.linear_model module.\n",
    "We'll create a simple nonlinear function that we'd like to fit\n",
    "\n",
    "\n",
    "\n"
   ]
  },
  {
   "cell_type": "code",
   "execution_count": null,
   "metadata": {
    "collapsed": true
   },
   "outputs": [],
   "source": [
    "def test_func(x, err=0.5):\n",
    "    y = 10 - 1. / (x + 0.1)\n",
    "    if err > 0:\n",
    "        y = np.random.normal(y, err)\n",
    "    return y"
   ]
  },
  {
   "cell_type": "code",
   "execution_count": null,
   "metadata": {
    "collapsed": true
   },
   "outputs": [],
   "source": [
    "def make_data(N=40, error=1.0, random_seed=1):\n",
    "    # randomly sample the data\n",
    "    np.random.seed(1)\n",
    "    X = np.random.random(N)[:, np.newaxis]\n",
    "    y = test_func(X.ravel(), error)\n",
    "    \n",
    "    return X, y"
   ]
  },
  {
   "cell_type": "code",
   "execution_count": null,
   "metadata": {},
   "outputs": [],
   "source": [
    "X, y = make_data(40, error=1)\n",
    "plt.scatter(X.ravel(), y);"
   ]
  },
  {
   "cell_type": "code",
   "execution_count": null,
   "metadata": {},
   "outputs": [],
   "source": [
    "X_test = np.linspace(-0.1, 1.1, 500)[:, None]\n",
    "\n",
    "from sklearn.linear_model import LinearRegression\n",
    "from sklearn.metrics import mean_squared_error\n",
    "model = LinearRegression()\n",
    "model.fit(X, y)\n",
    "y_test = model.predict(X_test)\n",
    "\n",
    "plt.scatter(X.ravel(), y)\n",
    "plt.plot(X_test.ravel(), y_test)\n",
    "plt.title(\"mean squared error: {0:.3g}\".format(mean_squared_error(model.predict(X), y)));"
   ]
  },
  {
   "cell_type": "code",
   "execution_count": null,
   "metadata": {
    "collapsed": true
   },
   "outputs": [],
   "source": [
    "from sklearn.preprocessing import PolynomialFeatures\n",
    "from sklearn.linear_model import LinearRegression\n",
    "from sklearn.pipeline import make_pipeline\n",
    "\n",
    "def PolynomialRegression(degree=2, **kwargs):\n",
    "    return make_pipeline(PolynomialFeatures(degree),\n",
    "                         LinearRegression(**kwargs))"
   ]
  },
  {
   "cell_type": "code",
   "execution_count": null,
   "metadata": {},
   "outputs": [],
   "source": [
    "model = PolynomialRegression(2)\n",
    "model.fit(X, y)\n",
    "y_test = model.predict(X_test)\n",
    "\n",
    "plt.scatter(X.ravel(), y)\n",
    "plt.plot(X_test.ravel(), y_test)\n",
    "plt.title(\"quadratic model -mean squared error: {0:.3g}\".format(mean_squared_error(model.predict(X), y)));"
   ]
  },
  {
   "cell_type": "code",
   "execution_count": null,
   "metadata": {},
   "outputs": [],
   "source": [
    "model = PolynomialRegression(30)\n",
    "model.fit(X, y)\n",
    "y_test = model.predict(X_test)\n",
    "\n",
    "plt.scatter(X.ravel(), y)\n",
    "plt.plot(X_test.ravel(), y_test)\n",
    "plt.title(\"Complicated model-mean squared error: {0:.3g}\".format(mean_squared_error(model.predict(X), y)))\n",
    "plt.ylim(-4, 14);"
   ]
  },
  {
   "cell_type": "markdown",
   "metadata": {},
   "source": [
    "When we increase the degree to this extent, it's clear that the resulting fit is no longer reflecting the true underlying distribution, but is more sensitive to the noise in the training data. For this reason, we call it a high-variance model, and we say that it over-fits the data."
   ]
  },
  {
   "cell_type": "code",
   "execution_count": null,
   "metadata": {},
   "outputs": [],
   "source": [
    "from IPython.html.widgets import interact\n",
    "\n",
    "def plot_fit(degree=1, Npts=50):\n",
    "    X, y = make_data(Npts, error=1)\n",
    "    X_test = np.linspace(-0.1, 1.1, 500)[:, None]\n",
    "    \n",
    "    model = PolynomialRegression(degree=degree)\n",
    "    model.fit(X, y)\n",
    "    y_test = model.predict(X_test)\n",
    "\n",
    "    plt.scatter(X.ravel(), y)\n",
    "    plt.plot(X_test.ravel(), y_test)\n",
    "    plt.ylim(-4, 14)\n",
    "    plt.title(\"mean squared error: {0:.2f}\".format(mean_squared_error(model.predict(X), y)))\n",
    "    \n",
    "interact(plot_fit, degree=(1, 30), Npts=(2, 100));"
   ]
  },
  {
   "cell_type": "markdown",
   "metadata": {},
   "source": [
    "### Detecting Over-fitting with Validation Curves\n",
    "Clearly, computing the error on the training data is not enough (we saw this previously). As above, we can use cross-validation to get a better handle on how the model fit is working.\n",
    "\n",
    "Let's do this here, again using the validation_curve utility. To make things more clear, we'll use a slightly larger dataset:"
   ]
  },
  {
   "cell_type": "code",
   "execution_count": null,
   "metadata": {},
   "outputs": [],
   "source": [
    "X, y = make_data(120, error=1.0)\n",
    "plt.scatter(X, y);"
   ]
  },
  {
   "cell_type": "code",
   "execution_count": null,
   "metadata": {},
   "outputs": [],
   "source": [
    "from sklearn.model_selection import validation_curve\n",
    "\n",
    "def rms_error(model, X, y):\n",
    "    y_pred = model.predict(X)\n",
    "    return np.sqrt(np.mean((y - y_pred) ** 2))\n",
    "\n",
    "degree = np.arange(0, 18)\n",
    "val_train, val_test = validation_curve(PolynomialRegression(), X, y,\n",
    "                                       'polynomialfeatures__degree', degree, cv=7,\n",
    "                                       scoring=rms_error)"
   ]
  },
  {
   "cell_type": "code",
   "execution_count": null,
   "metadata": {},
   "outputs": [],
   "source": [
    "\n",
    "\n",
    "def plot_with_err(x, data, **kwargs):\n",
    "    mu, std = data.mean(1), data.std(1)\n",
    "    lines = plt.plot(x, mu, '-', **kwargs)\n",
    "    plt.fill_between(x, mu - std, mu + std, edgecolor='none',\n",
    "                     facecolor=lines[0].get_color(), alpha=0.2)\n",
    "\n",
    "plot_with_err(degree, val_train, label='training scores')\n",
    "plot_with_err(degree, val_test, label='validation scores')\n",
    "plt.xlabel('degree'); plt.ylabel('rms error')\n",
    "plt.legend();"
   ]
  },
  {
   "cell_type": "markdown",
   "metadata": {},
   "source": [
    "Notice the trend here, which is common for this type of plot.\n",
    "\n",
    "For a small model complexity, the training error and validation error are very similar. This indicates that the model is under-fitting the data: it doesn't have enough complexity to represent the data. Another way of putting it is that this is a high-bias model.\n",
    "\n",
    "As the model complexity grows, the training and validation scores diverge. This indicates that the model is over-fitting the data: it has so much flexibility, that it fits the noise rather than the underlying trend. Another way of putting it is that this is a high-variance model.\n",
    "\n",
    "Note that the training score (nearly) always improves with model complexity. This is because a more complicated model can fit the noise better, so the model improves. The validation data generally has a sweet spot, which here is around 5 terms.\n",
    "\n",
    "Here's our best-fit model according to the cross-validation:"
   ]
  },
  {
   "cell_type": "code",
   "execution_count": null,
   "metadata": {},
   "outputs": [],
   "source": [
    "model = PolynomialRegression(4).fit(X, y)\n",
    "plt.scatter(X, y)\n",
    "plt.plot(X_test, model.predict(X_test));"
   ]
  },
  {
   "cell_type": "code",
   "execution_count": null,
   "metadata": {},
   "outputs": [],
   "source": [
    "X.shape"
   ]
  },
  {
   "cell_type": "markdown",
   "metadata": {},
   "source": [
    "### Detecting Data Sufficiency with Learning Curves\n",
    "As you might guess, the exact turning-point of the tradeoff between bias and variance is highly dependent on the number of training points used. Here we'll illustrate the use of learning curves, which display this property.\n",
    "\n",
    "\n",
    "\n",
    "The idea is to plot the mean-squared-error for the training and test set as a function of Number of Training Points"
   ]
  },
  {
   "cell_type": "code",
   "execution_count": null,
   "metadata": {},
   "outputs": [],
   "source": []
  },
  {
   "cell_type": "code",
   "execution_count": null,
   "metadata": {},
   "outputs": [],
   "source": [
    "#http://scikit-learn.org/stable/modules/learning_curve.html\n",
    "from sklearn.model_selection import learning_curve\n",
    "\n",
    "def plot_learning_curve(degree=3):\n",
    "    train_sizes = np.linspace(0.05, 1, 20)\n",
    "    N_train, val_train, val_test = learning_curve(PolynomialRegression(degree),X, y, train_sizes, cv=5,scoring=rms_error) \n",
    "    plot_with_err(N_train, val_train, label='training scores')\n",
    "    plot_with_err(N_train, val_test, label='validation scores')\n",
    "    plt.xlabel('Training Set Size'); plt.ylabel('rms error')\n",
    "    plt.ylim(0, 3)\n",
    "    plt.xlim(5, 80)\n",
    "    plt.legend()"
   ]
  },
  {
   "cell_type": "code",
   "execution_count": null,
   "metadata": {},
   "outputs": [],
   "source": [
    "rms_error"
   ]
  },
  {
   "cell_type": "code",
   "execution_count": null,
   "metadata": {},
   "outputs": [],
   "source": [
    "plot_learning_curve(3)"
   ]
  },
  {
   "cell_type": "code",
   "execution_count": null,
   "metadata": {
    "collapsed": true
   },
   "outputs": [],
   "source": [
    "learning_curve?"
   ]
  },
  {
   "cell_type": "markdown",
   "metadata": {},
   "source": [
    "For an even more complex model, we still converge, but the convergence only happens for large amounts of training data.\n",
    "So we see the following:\n",
    "you can cause the lines to converge by adding more points or by simplifying the model.\n",
    "you can bring the convergence error down only by increasing the complexity of the model.\n",
    "Thus these curves can give you hints about how you might improve a sub-optimal model. If the curves are already close together, you need more model complexity. If the curves are far apart, you might also improve the model by adding more data.\n",
    "To make this more concrete, imagine some telescope data in which the results are not robust enough. You must think about whether to spend your valuable telescope time observing more objects to get a larger training set, or more attributes of each object in order to improve the model. The answer to this question has real consequences, and can be addressed using these metrics.\n",
    "Summary\n",
    "We've gone over several useful tools for model validation\n",
    "The Training Score shows how well a model fits the data it was trained on. This is not a good indication of model effectiveness\n",
    "The Validation Score shows how well a model fits hold-out data. The most effective method is some form of cross-validation, where multiple hold-out sets are used.\n",
    "Validation Curves are a plot of validation score and training score as a function of model complexity:\n",
    "when the two curves are close, it indicates underfitting\n",
    "when the two curves are separated, it indicates overfitting\n",
    "the \"sweet spot\" is in the middle\n",
    "Learning Curves are a plot of the validation score and training score as a function of Number of training samples\n",
    "when the curves are close, it indicates underfitting, and adding more data will not generally improve the estimator.\n",
    "when the curves are far apart, it indicates overfitting, and adding more data may increase the effectiveness of the model.\n",
    "These tools are powerful means of evaluating your model on your data."
   ]
  },
  {
   "cell_type": "code",
   "execution_count": null,
   "metadata": {
    "collapsed": true
   },
   "outputs": [],
   "source": [
    "from sklearn.linear_model import Ridge"
   ]
  },
  {
   "cell_type": "code",
   "execution_count": null,
   "metadata": {},
   "outputs": [],
   "source": [
    "X, y = iris.data, iris.target\n",
    "indices = np.arange(y.shape[0])\n",
    "np.random.shuffle(indices)\n",
    "X, y = X[indices], y[indices]\n",
    "train_scores, valid_scores = validation_curve(Ridge(), X, y, \"alpha\",\n",
    "                                               np.logspace(-7, 3, 3))"
   ]
  },
  {
   "cell_type": "code",
   "execution_count": null,
   "metadata": {},
   "outputs": [],
   "source": [
    "\n",
    "train_sizes, train_scores, valid_scores = learning_curve(\n",
    "    SVC(kernel='linear'), X, y, train_sizes=np.linspace(0.05, 1, 20), cv=5)\n",
    "train_sizes            \n",
    "train_scores           \n",
    "valid_scores  "
   ]
  },
  {
   "cell_type": "code",
   "execution_count": null,
   "metadata": {},
   "outputs": [],
   "source": [
    "import numpy as np\n",
    "import matplotlib.pyplot as plt\n",
    "from sklearn.naive_bayes import GaussianNB\n",
    "from sklearn.svm import SVC\n",
    "from sklearn.datasets import load_digits\n",
    "from sklearn.model_selection import learning_curve\n",
    "from sklearn.model_selection import ShuffleSplit\n",
    "\n",
    "\n",
    "def plot_learning_curve(estimator, title, X, y, ylim=None, cv=None,\n",
    "                        n_jobs=1, train_sizes=np.linspace(.1, 1.0, 5)):\n",
    "    \"\"\"\n",
    "    Generate a simple plot of the test and training learning curve.\n",
    "\n",
    "    Parameters\n",
    "    ----------\n",
    "    estimator : object type that implements the \"fit\" and \"predict\" methods\n",
    "        An object of that type which is cloned for each validation.\n",
    "\n",
    "    title : string\n",
    "        Title for the chart.\n",
    "\n",
    "    X : array-like, shape (n_samples, n_features)\n",
    "        Training vector, where n_samples is the number of samples and\n",
    "        n_features is the number of features.\n",
    "\n",
    "    y : array-like, shape (n_samples) or (n_samples, n_features), optional\n",
    "        Target relative to X for classification or regression;\n",
    "        None for unsupervised learning.\n",
    "\n",
    "    ylim : tuple, shape (ymin, ymax), optional\n",
    "        Defines minimum and maximum yvalues plotted.\n",
    "\n",
    "    cv : int, cross-validation generator or an iterable, optional\n",
    "        Determines the cross-validation splitting strategy.\n",
    "        Possible inputs for cv are:\n",
    "          - None, to use the default 3-fold cross-validation,\n",
    "          - integer, to specify the number of folds.\n",
    "          - An object to be used as a cross-validation generator.\n",
    "          - An iterable yielding train/test splits.\n",
    "\n",
    "        For integer/None inputs, if ``y`` is binary or multiclass,\n",
    "        :class:`StratifiedKFold` used. If the estimator is not a classifier\n",
    "        or if ``y`` is neither binary nor multiclass, :class:`KFold` is used.\n",
    "\n",
    "        Refer :ref:`User Guide <cross_validation>` for the various\n",
    "        cross-validators that can be used here.\n",
    "\n",
    "    n_jobs : integer, optional\n",
    "        Number of jobs to run in parallel (default 1).\n",
    "    \"\"\"\n",
    "    plt.figure()\n",
    "    plt.title(title)\n",
    "    if ylim is not None:\n",
    "        plt.ylim(*ylim)\n",
    "    plt.xlabel(\"Training examples\")\n",
    "    plt.ylabel(\"Score\")\n",
    "    train_sizes, train_scores, test_scores = learning_curve(\n",
    "        estimator, X, y, cv=cv, n_jobs=n_jobs, train_sizes=train_sizes)\n",
    "    train_scores_mean = np.mean(train_scores, axis=1)\n",
    "    train_scores_std = np.std(train_scores, axis=1)\n",
    "    test_scores_mean = np.mean(test_scores, axis=1)\n",
    "    test_scores_std = np.std(test_scores, axis=1)\n",
    "    plt.grid()\n",
    "\n",
    "    plt.fill_between(train_sizes, train_scores_mean - train_scores_std,\n",
    "                     train_scores_mean + train_scores_std, alpha=0.1,\n",
    "                     color=\"r\")\n",
    "    plt.fill_between(train_sizes, test_scores_mean - test_scores_std,\n",
    "                     test_scores_mean + test_scores_std, alpha=0.1, color=\"g\")\n",
    "    plt.plot(train_sizes, train_scores_mean, 'o-', color=\"r\",\n",
    "             label=\"Training score\")\n",
    "    plt.plot(train_sizes, test_scores_mean, 'o-', color=\"g\",\n",
    "             label=\"Cross-validation score\")\n",
    "\n",
    "    plt.legend(loc=\"best\")\n",
    "    return plt\n",
    "\n",
    "\n",
    "digits = load_digits()\n",
    "X, y = digits.data, digits.target\n",
    "\n",
    "\n",
    "title = \"Learning Curves (Naive Bayes)\"\n",
    "# Cross validation with 100 iterations to get smoother mean test and train\n",
    "# score curves, each time with 20% data randomly selected as a validation set.\n",
    "cv = ShuffleSplit(n_splits=100, test_size=0.2, random_state=0)\n",
    "\n",
    "estimator = GaussianNB()\n",
    "plot_learning_curve(estimator, title, X, y, ylim=(0.7, 1.01), cv=cv, n_jobs=4)\n",
    "\n",
    "title = \"Learning Curves (SVM, RBF kernel, $\\gamma=0.001$)\"\n",
    "# SVC is more expensive so we do a lower number of CV iterations:\n",
    "cv = ShuffleSplit(n_splits=10, test_size=0.2, random_state=0)\n",
    "estimator = SVC(gamma=0.001)\n",
    "plot_learning_curve(estimator, title, X, y, (0.7, 1.01), cv=cv, n_jobs=4)\n",
    "\n",
    "plt.show()"
   ]
  },
  {
   "cell_type": "code",
   "execution_count": null,
   "metadata": {
    "collapsed": true
   },
   "outputs": [],
   "source": []
  }
 ],
 "metadata": {
  "kernelspec": {
   "display_name": "Python 3",
   "language": "python",
   "name": "python3"
  },
  "language_info": {
   "codemirror_mode": {
    "name": "ipython",
    "version": 3
   },
   "file_extension": ".py",
   "mimetype": "text/x-python",
   "name": "python",
   "nbconvert_exporter": "python",
   "pygments_lexer": "ipython3",
   "version": "3.6.2"
  }
 },
 "nbformat": 4,
 "nbformat_minor": 2
}
